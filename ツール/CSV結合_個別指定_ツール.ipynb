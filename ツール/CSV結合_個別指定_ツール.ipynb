{
  "nbformat": 4,
  "nbformat_minor": 0,
  "metadata": {
    "colab": {
      "provenance": [],
      "include_colab_link": true
    },
    "kernelspec": {
      "name": "python3",
      "display_name": "Python 3"
    },
    "language_info": {
      "name": "python"
    }
  },
  "cells": [
    {
      "cell_type": "markdown",
      "metadata": {
        "id": "view-in-github",
        "colab_type": "text"
      },
      "source": [
        "<a href=\"https://colab.research.google.com/github/KenichiroArai/Google-Colab/blob/main/%E3%83%84%E3%83%BC%E3%83%AB/CSV%E7%B5%90%E5%90%88_%E5%80%8B%E5%88%A5%E6%8C%87%E5%AE%9A_%E3%83%84%E3%83%BC%E3%83%AB.ipynb\" target=\"_parent\"><img src=\"https://colab.research.google.com/assets/colab-badge.svg\" alt=\"Open In Colab\"/></a>"
      ]
    },
    {
      "cell_type": "markdown",
      "source": [
        "# 0 概要\n",
        "\n",
        "本ファイルは、CSVファイルを一つのファイルに結合するためのツールです。\n",
        "\n",
        "本プログラムは、個別指定です。\n",
        "\n",
        "正規表現に指定したい場合は別ファイル（「CSV結合_正規表現指定_ツール.ipynb」）をご参照ください。\n",
        "\n",
        "入力、共通（定義）、実行の3セクションに大別されています。\n",
        "\n",
        "入力セクションで実行したい情報を入力して実行して下さい。\n",
        "\n",
        "実行するセクションが実行されるまで、出力されません。\n"
      ],
      "metadata": {
        "id": "8nXJOODN6pH7"
      }
    },
    {
      "cell_type": "markdown",
      "source": [
        "# 1 入力\n",
        "\n",
        "入力情報の1行ごとに結合するファイル名を入力してください。\n",
        "\n",
        "\n"
      ],
      "metadata": {
        "id": "ha7pmqdM0H3e"
      }
    },
    {
      "cell_type": "code",
      "source": [
        "# 出力パス\n",
        "output_path = 'drive/MyDrive/test/出力'\n",
        "\n",
        "# 出力ファイル名\n",
        "output_file_name = 'output_sample.csv'\n",
        "\n",
        "# 読み込み情報\n",
        "## read_path: 読み込み対象のパス\n",
        "## read_file_name: 読み込みファイル名\n",
        "read_infos = [\n",
        "    { 'read_path': 'drive/MyDrive/test/入力', 'read_file_name': 'data1.csv' },\n",
        "    { 'read_path': 'drive/MyDrive/test/入力', 'read_file_name': 'data2.csv' },\n",
        "    { 'read_path': 'drive/MyDrive/test/入力', 'read_file_name': 'data3.csv' },\n",
        "]\n"
      ],
      "metadata": {
        "id": "Eg-SjGyX0NcK"
      },
      "execution_count": 1,
      "outputs": []
    },
    {
      "cell_type": "markdown",
      "source": [
        "# 2 共通"
      ],
      "metadata": {
        "id": "345oib_T7S7y"
      }
    },
    {
      "cell_type": "markdown",
      "source": [
        "## (1) 準備"
      ],
      "metadata": {
        "id": "61d4K3-k7g11"
      }
    },
    {
      "cell_type": "markdown",
      "source": [
        "## ア 事前処理"
      ],
      "metadata": {
        "id": "Q35WiSrC7nOU"
      }
    },
    {
      "cell_type": "code",
      "source": [
        "# ドライブの使用\n",
        "from google.colab import drive\n",
        "drive.mount('/content/drive')\n"
      ],
      "metadata": {
        "colab": {
          "base_uri": "https://localhost:8080/"
        },
        "id": "3a2Rd97A7o_B",
        "outputId": "7030efcf-ffc1-4390-d43f-44e89127d62b"
      },
      "execution_count": 2,
      "outputs": [
        {
          "output_type": "stream",
          "name": "stdout",
          "text": [
            "Mounted at /content/drive\n"
          ]
        }
      ]
    },
    {
      "cell_type": "markdown",
      "source": [
        "## イ インポート"
      ],
      "metadata": {
        "id": "d44kQM-t8RIc"
      }
    },
    {
      "cell_type": "code",
      "source": [
        "import csv\n",
        "import os\n",
        "import re\n",
        "\n",
        "import chardet\n",
        "import pandas as pd\n"
      ],
      "metadata": {
        "id": "5Q5vOLBz9EME"
      },
      "execution_count": 3,
      "outputs": []
    },
    {
      "cell_type": "markdown",
      "source": [
        "# 3 実行"
      ],
      "metadata": {
        "id": "CyiY6K0v7U8R"
      }
    },
    {
      "cell_type": "markdown",
      "source": [
        "## (1) CSV結合の出力"
      ],
      "metadata": {
        "id": "yLfMCGe9887T"
      }
    },
    {
      "cell_type": "code",
      "source": [
        "%%time\n",
        "\n",
        "# 開始\n",
        "print('---------- CSV結合を出力：開始 ----------')\n",
        "\n",
        "# 出力先のフルパス\n",
        "output_full_path = os.path.join(output_path, output_file_name)\n",
        "\n",
        "# すべてのCSVを1つのDataFrameにまとめる\n",
        "combined_csv_df = pd.DataFrame()\n",
        "\n",
        "# 読み込み情報リストごとに、CSVを出力する\n",
        "print('----- CSVの読み込みを開始します。 -----')\n",
        "for index, read_info in enumerate(read_infos):\n",
        "\n",
        "    # 読み込み情報から各データを取得\n",
        "    read_path = read_info['read_path']\n",
        "    read_file_name = read_info['read_file_name']\n",
        "\n",
        "    # 読み込み先のフルパス\n",
        "    read_full_path = os.path.join(read_path, read_file_name)\n",
        "\n",
        "    # エンコーディングを自動判定\n",
        "    with open(read_full_path, 'rb') as f:\n",
        "        rawdata = f.read()\n",
        "        result_dict = chardet.detect(rawdata)\n",
        "    encoding = result_dict['encoding']\n",
        "\n",
        "    # CSVを読み込む\n",
        "    print(f'{index + 1}/{len(read_infos)}:{read_full_path} (Encoding: {encoding})')\n",
        "    df = pd.read_csv(read_full_path, encoding=encoding)\n",
        "\n",
        "    # 結合する\n",
        "    combined_csv_df = pd.concat([combined_csv_df, df], ignore_index=True, sort=False)\n",
        "print('----- CSVの読み込みを終了します。 -----')\n",
        "\n",
        "# 結果をCSVとしてエクスポート\n",
        "print('----- CSV結合の出力を開始します。 -----')\n",
        "print(f'出力先：{output_full_path}')\n",
        "combined_csv_df.to_csv(output_full_path, index=False)\n",
        "print('----- CSV結合の出力を終了します。 -----')\n",
        "\n",
        "# 終了\n",
        "print('---------- CSV結合を出力：終了 ----------')\n"
      ],
      "metadata": {
        "colab": {
          "base_uri": "https://localhost:8080/"
        },
        "id": "_9Rga69S83OH",
        "outputId": "d2999817-4aa6-418d-cbf9-282b538a3089"
      },
      "execution_count": 4,
      "outputs": [
        {
          "output_type": "stream",
          "name": "stdout",
          "text": [
            "---------- CSV結合を出力：開始 ----------\n",
            "----- CSVの読み込みを開始します。 -----\n",
            "1/3:drive/MyDrive/test/入力/data1.csv (Encoding: ascii)\n",
            "2/3:drive/MyDrive/test/入力/data2.csv (Encoding: SHIFT_JIS)\n",
            "3/3:drive/MyDrive/test/入力/data3.csv (Encoding: ascii)\n",
            "----- CSVの読み込みを終了します。 -----\n",
            "----- CSV結合の出力を開始します。 -----\n",
            "出力先：drive/MyDrive/test/出力/output_sample.csv\n",
            "----- CSV結合の出力を終了します。 -----\n",
            "---------- CSV結合を出力：終了 ----------\n",
            "CPU times: user 41.1 ms, sys: 5.86 ms, total: 47 ms\n",
            "Wall time: 1.68 s\n"
          ]
        }
      ]
    },
    {
      "cell_type": "code",
      "source": [],
      "metadata": {
        "id": "NbMp5z_6BBnP"
      },
      "execution_count": 4,
      "outputs": []
    }
  ]
}