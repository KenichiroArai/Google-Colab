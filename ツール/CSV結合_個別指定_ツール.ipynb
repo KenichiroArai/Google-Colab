{
  "nbformat": 4,
  "nbformat_minor": 0,
  "metadata": {
    "colab": {
      "provenance": []
    },
    "kernelspec": {
      "name": "python3",
      "display_name": "Python 3"
    },
    "language_info": {
      "name": "python"
    }
  },
  "cells": [
    {
      "cell_type": "markdown",
      "source": [
        "# 0 概要\n",
        "\n",
        "本ファイルは、CSVファイルを一つのファイルに結合するためのツールです。\n",
        "\n",
        "本プログラムは、個別指定です。\n",
        "\n",
        "正規表現に指定したい場合は別ファイル（「CSV結合_正規表現指定_ツール.ipynb」）をご参照ください。\n",
        "\n",
        "入力、共通（定義）、実行の3セクションに大別されています。\n",
        "\n",
        "入力セクションで実行したい情報を入力して実行して下さい。\n",
        "\n",
        "実行するセクションが実行されるまで、出力されません。\n"
      ],
      "metadata": {
        "id": "8nXJOODN6pH7"
      }
    },
    {
      "cell_type": "markdown",
      "source": [
        "# 1 入力\n",
        "\n",
        "入力情報の1行ごとに結合するファイル名を入力してください。\n",
        "\n",
        "\n"
      ],
      "metadata": {
        "id": "ha7pmqdM0H3e"
      }
    },
    {
      "cell_type": "code",
      "source": [
        "# 出力パス\n",
        "output_path = 'drive/MyDrive/test/出力'\n",
        "\n",
        "# 出力ファイル名\n",
        "output_file_name = 'output_sample.csv'\n",
        "\n",
        "# 読み込み情報\n",
        "## read_path: 読み込み対象のパス\n",
        "## read_file_name: 読み込みファイル名\n",
        "## encoding: エンコーディング\n",
        "read_infos = [\n",
        "    { 'read_path': 'drive/MyDrive/test/入力', 'read_file_name': 'data1.csv', 'encoding': 'cp932' },\n",
        "    { 'read_path': 'drive/MyDrive/test/入力', 'read_file_name': 'data2.csv', 'encoding': 'cp932' },\n",
        "    { 'read_path': 'drive/MyDrive/test/入力', 'read_file_name': 'data3.csv', 'encoding': 'cp932' },\n",
        "]\n"
      ],
      "metadata": {
        "id": "Eg-SjGyX0NcK"
      },
      "execution_count": null,
      "outputs": []
    },
    {
      "cell_type": "markdown",
      "source": [
        "# 2 共通"
      ],
      "metadata": {
        "id": "345oib_T7S7y"
      }
    },
    {
      "cell_type": "markdown",
      "source": [
        "## (1) 準備"
      ],
      "metadata": {
        "id": "61d4K3-k7g11"
      }
    },
    {
      "cell_type": "markdown",
      "source": [
        "## ア 事前処理"
      ],
      "metadata": {
        "id": "Q35WiSrC7nOU"
      }
    },
    {
      "cell_type": "code",
      "source": [
        "# ドライブの使用\n",
        "from google.colab import drive\n",
        "drive.mount('/content/drive')"
      ],
      "metadata": {
        "colab": {
          "base_uri": "https://localhost:8080/"
        },
        "id": "3a2Rd97A7o_B",
        "outputId": "ebd9c16c-bd0c-4772-da5d-e06c6c819417"
      },
      "execution_count": null,
      "outputs": [
        {
          "output_type": "stream",
          "name": "stdout",
          "text": [
            "Mounted at /content/drive\n"
          ]
        }
      ]
    },
    {
      "cell_type": "markdown",
      "source": [
        "## イ インポート"
      ],
      "metadata": {
        "id": "d44kQM-t8RIc"
      }
    },
    {
      "cell_type": "code",
      "source": [
        "import csv\n",
        "import os\n",
        "import re\n",
        "\n",
        "import pandas as pd\n"
      ],
      "metadata": {
        "id": "5Q5vOLBz9EME"
      },
      "execution_count": null,
      "outputs": []
    },
    {
      "cell_type": "markdown",
      "source": [
        "# 3 実行"
      ],
      "metadata": {
        "id": "CyiY6K0v7U8R"
      }
    },
    {
      "cell_type": "markdown",
      "source": [
        "## (1) CSV結合の出力"
      ],
      "metadata": {
        "id": "yLfMCGe9887T"
      }
    },
    {
      "cell_type": "code",
      "source": [
        "%%time\n",
        "\n",
        "# 出力先のフルパス\n",
        "output_full_path = os.path.join(output_path, output_file_name)\n",
        "\n",
        "# すべてのCSVを1つのDataFrameにまとめる\n",
        "combined_csv_df = pd.DataFrame()\n",
        "\n",
        "# 読み込み情報リストごとに、CSVを出力する\n",
        "for index, read_info in enumerate(read_infos):\n",
        "\n",
        "    # 読み込み情報から各データを取得\n",
        "    read_path, read_file_name, encoding = read_info.values()\n",
        "\n",
        "    # 読み込み先のフルパス\n",
        "    read_full_path = os.path.join(read_path, read_file_name)\n",
        "\n",
        "    # 読み込み処理\n",
        "    print(f'{index + 1}/{len(read_infos)}:{read_full_path}')\n",
        "    df = pd.read_csv(read_full_path, encoding=encoding)\n",
        "    combined_csv_df = pd.concat([combined_csv_df, df], ignore_index=True, sort=False)\n",
        "\n",
        "# 結果をCSVとしてエクスポート\n",
        "combined_csv_df.to_csv(output_full_path, index=False)\n"
      ],
      "metadata": {
        "colab": {
          "base_uri": "https://localhost:8080/"
        },
        "id": "_9Rga69S83OH",
        "outputId": "7f7b5c73-2009-4511-9408-ba7153f9e611"
      },
      "execution_count": null,
      "outputs": [
        {
          "output_type": "stream",
          "name": "stdout",
          "text": [
            "1/3:drive/MyDrive/test/入力/data1.csv\n",
            "2/3:drive/MyDrive/test/入力/data2.csv\n",
            "3/3:drive/MyDrive/test/入力/data3.csv\n",
            "CPU times: user 40.5 ms, sys: 2.92 ms, total: 43.4 ms\n",
            "Wall time: 1.93 s\n"
          ]
        }
      ]
    },
    {
      "cell_type": "code",
      "source": [],
      "metadata": {
        "id": "8xaG8aFlto-X"
      },
      "execution_count": null,
      "outputs": []
    }
  ]
}